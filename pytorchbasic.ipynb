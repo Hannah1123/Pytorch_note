{
  "nbformat": 4,
  "nbformat_minor": 0,
  "metadata": {
    "colab": {
      "name": "pytorchbasic.ipynb",
      "provenance": [],
      "toc_visible": true,
      "authorship_tag": "ABX9TyPUub2A5skQAgeoGimWnCpH",
      "include_colab_link": true
    },
    "kernelspec": {
      "name": "python3",
      "display_name": "Python 3"
    }
  },
  "cells": [
    {
      "cell_type": "markdown",
      "metadata": {
        "id": "view-in-github",
        "colab_type": "text"
      },
      "source": [
        "<a href=\"https://colab.research.google.com/github/Hannah1123/Pytorch_note/blob/main/pytorchbasic.ipynb\" target=\"_parent\"><img src=\"https://colab.research.google.com/assets/colab-badge.svg\" alt=\"Open In Colab\"/></a>"
      ]
    },
    {
      "cell_type": "code",
      "metadata": {
        "id": "f0VVcnKZ3c8e"
      },
      "source": [
        "import torch\n",
        "import torch.nn.functional as fn"
      ],
      "execution_count": null,
      "outputs": []
    },
    {
      "cell_type": "code",
      "metadata": {
        "id": "6mh9mlWx_6rF",
        "colab": {
          "base_uri": "https://localhost:8080/",
          "height": 153
        },
        "outputId": "7b8f83f8-91d7-41a1-b0ea-bc234ae4e3f4"
      },
      "source": [
        "a = torch.eye(3)\n",
        "b = torch.eye(3)[None, :, :]\n",
        "print('a', a)\n",
        "print('size', a.shape)\n",
        "print('b', b)\n",
        "print('size', b.shape)\n"
      ],
      "execution_count": null,
      "outputs": [
        {
          "output_type": "stream",
          "text": [
            "a tensor([[1., 0., 0.],\n",
            "        [0., 1., 0.],\n",
            "        [0., 0., 1.]])\n",
            "size torch.Size([3, 3])\n",
            "b tensor([[[1., 0., 0.],\n",
            "         [0., 1., 0.],\n",
            "         [0., 0., 1.]]])\n",
            "size torch.Size([1, 3, 3])\n"
          ],
          "name": "stdout"
        }
      ]
    },
    {
      "cell_type": "code",
      "metadata": {
        "id": "Fow4VA9b_v1l",
        "colab": {
          "base_uri": "https://localhost:8080/",
          "height": 68
        },
        "outputId": "f5934b44-e5eb-4eba-9572-f819161fcc7c"
      },
      "source": [
        "[None, :, :]"
      ],
      "execution_count": null,
      "outputs": [
        {
          "output_type": "execute_result",
          "data": {
            "text/plain": [
              "tensor([[[1., 0., 0.],\n",
              "         [0., 1., 0.],\n",
              "         [0., 0., 1.]]])"
            ]
          },
          "metadata": {
            "tags": []
          },
          "execution_count": 3
        }
      ]
    },
    {
      "cell_type": "code",
      "metadata": {
        "id": "6v--nSfy3nfO",
        "colab": {
          "base_uri": "https://localhost:8080/",
          "height": 89
        },
        "outputId": "9b58f88b-f5df-4cd1-b279-80ee933d7ed9"
      },
      "source": [
        "x = torch.tensor([1, 2, 3])\n",
        "x0 = x.expand(2, 3)\n",
        "print(x0)\n",
        "print(x.shape)\n",
        "print(x0.shape)"
      ],
      "execution_count": null,
      "outputs": [
        {
          "output_type": "stream",
          "text": [
            "tensor([[1, 2, 3],\n",
            "        [1, 2, 3]])\n",
            "torch.Size([3])\n",
            "torch.Size([2, 3])\n"
          ],
          "name": "stdout"
        }
      ]
    },
    {
      "cell_type": "code",
      "metadata": {
        "id": "eP7vRWce3xGo",
        "colab": {
          "base_uri": "https://localhost:8080/",
          "height": 89
        },
        "outputId": "bb4f5f1e-3015-48a0-be6c-c0352ec37200"
      },
      "source": [
        "x1 = torch.randn(2, 1, 1, 4)\n",
        "print(x1)"
      ],
      "execution_count": null,
      "outputs": [
        {
          "output_type": "stream",
          "text": [
            "tensor([[[[-0.1782, -0.6373, -1.1717,  0.2201]]],\n",
            "\n",
            "\n",
            "        [[[ 1.1863, -0.0233,  0.4874, -0.5745]]]])\n"
          ],
          "name": "stdout"
        }
      ]
    },
    {
      "cell_type": "code",
      "metadata": {
        "id": "qo7sMUW137Sm",
        "colab": {
          "base_uri": "https://localhost:8080/",
          "height": 323
        },
        "outputId": "4e891d38-524f-4873-d8ab-69f0099c5a1d"
      },
      "source": [
        "x2 = x1.expand(-1, 2, 3, -1)\n",
        "print(x2)\n",
        "print(x2.shape)"
      ],
      "execution_count": null,
      "outputs": [
        {
          "output_type": "stream",
          "text": [
            "tensor([[[[-0.1782, -0.6373, -1.1717,  0.2201],\n",
            "          [-0.1782, -0.6373, -1.1717,  0.2201],\n",
            "          [-0.1782, -0.6373, -1.1717,  0.2201]],\n",
            "\n",
            "         [[-0.1782, -0.6373, -1.1717,  0.2201],\n",
            "          [-0.1782, -0.6373, -1.1717,  0.2201],\n",
            "          [-0.1782, -0.6373, -1.1717,  0.2201]]],\n",
            "\n",
            "\n",
            "        [[[ 1.1863, -0.0233,  0.4874, -0.5745],\n",
            "          [ 1.1863, -0.0233,  0.4874, -0.5745],\n",
            "          [ 1.1863, -0.0233,  0.4874, -0.5745]],\n",
            "\n",
            "         [[ 1.1863, -0.0233,  0.4874, -0.5745],\n",
            "          [ 1.1863, -0.0233,  0.4874, -0.5745],\n",
            "          [ 1.1863, -0.0233,  0.4874, -0.5745]]]])\n",
            "torch.Size([2, 2, 3, 4])\n"
          ],
          "name": "stdout"
        }
      ]
    },
    {
      "cell_type": "markdown",
      "metadata": {
        "id": "xDYP5cfj4Xsz"
      },
      "source": [
        "##repeat()"
      ]
    },
    {
      "cell_type": "markdown",
      "metadata": {
        "id": "ZfJq9Wu85_Ft"
      },
      "source": [
        "repeat()是size乘以一个倍数"
      ]
    },
    {
      "cell_type": "code",
      "metadata": {
        "id": "G2G1gwEa4Hbg",
        "colab": {
          "base_uri": "https://localhost:8080/",
          "height": 89
        },
        "outputId": "0e1f94a7-896e-4b0d-a5b5-97ebabeb840e"
      },
      "source": [
        "x = torch.tensor([1, 2, 3])\n",
        "x3 = x.repeat(2, 3)\n",
        "print(x3)\n",
        "print(x.shape)\n",
        "print(x3.shape)"
      ],
      "execution_count": null,
      "outputs": [
        {
          "output_type": "stream",
          "text": [
            "tensor([[1, 2, 3, 1, 2, 3, 1, 2, 3],\n",
            "        [1, 2, 3, 1, 2, 3, 1, 2, 3]])\n",
            "torch.Size([3])\n",
            "torch.Size([2, 9])\n"
          ],
          "name": "stdout"
        }
      ]
    },
    {
      "cell_type": "code",
      "metadata": {
        "id": "dbbmlOwF4ock",
        "colab": {
          "base_uri": "https://localhost:8080/",
          "height": 35
        },
        "outputId": "deec80a1-da5c-4bf9-ac53-fe21953b6c45"
      },
      "source": [
        "x3 = torch.randn(2, 3, 4)\n",
        "x3.repeat(3, 1, 3).shape"
      ],
      "execution_count": null,
      "outputs": [
        {
          "output_type": "execute_result",
          "data": {
            "text/plain": [
              "torch.Size([6, 3, 12])"
            ]
          },
          "metadata": {
            "tags": []
          },
          "execution_count": 12
        }
      ]
    },
    {
      "cell_type": "markdown",
      "metadata": {
        "id": "HEndEmWHSkez"
      },
      "source": [
        "##simple indices"
      ]
    },
    {
      "cell_type": "code",
      "metadata": {
        "id": "8V5GLR-wSqjf",
        "colab": {
          "base_uri": "https://localhost:8080/",
          "height": 35
        },
        "outputId": "32cfeae9-0d83-4995-d3db-5cb8f00f8d84"
      },
      "source": [
        "a = torch.arange(5)\n",
        "print('a：', a)"
      ],
      "execution_count": null,
      "outputs": [
        {
          "output_type": "stream",
          "text": [
            "a： tensor([0, 1, 2, 3, 4])\n"
          ],
          "name": "stdout"
        }
      ]
    },
    {
      "cell_type": "code",
      "metadata": {
        "id": "xtk79_GOStL_",
        "colab": {
          "base_uri": "https://localhost:8080/",
          "height": 179
        },
        "outputId": "ca252c3e-1782-4b3c-c2db-29cbf2569aa9"
      },
      "source": [
        "a.view(5, 1, 1)"
      ],
      "execution_count": null,
      "outputs": [
        {
          "output_type": "execute_result",
          "data": {
            "text/plain": [
              "tensor([[[0]],\n",
              "\n",
              "        [[1]],\n",
              "\n",
              "        [[2]],\n",
              "\n",
              "        [[3]],\n",
              "\n",
              "        [[4]]])"
            ]
          },
          "metadata": {
            "tags": []
          },
          "execution_count": 4
        }
      ]
    },
    {
      "cell_type": "code",
      "metadata": {
        "id": "6_76A2mrS8Zq",
        "colab": {
          "base_uri": "https://localhost:8080/",
          "height": 35
        },
        "outputId": "0f293e93-04f6-4682-e065-33598e38a0d6"
      },
      "source": [
        "a.shape"
      ],
      "execution_count": null,
      "outputs": [
        {
          "output_type": "execute_result",
          "data": {
            "text/plain": [
              "torch.Size([5])"
            ]
          },
          "metadata": {
            "tags": []
          },
          "execution_count": 5
        }
      ]
    },
    {
      "cell_type": "code",
      "metadata": {
        "id": "k02TudbIS5qz",
        "colab": {
          "base_uri": "https://localhost:8080/",
          "height": 989
        },
        "outputId": "a102b460-2664-4745-c497-42340ddabfdb"
      },
      "source": [
        "batch = a.view(5, 1, 1).repeat(1, 10, 3)\n",
        "print(batch)"
      ],
      "execution_count": null,
      "outputs": [
        {
          "output_type": "stream",
          "text": [
            "tensor([[[0, 0, 0],\n",
            "         [0, 0, 0],\n",
            "         [0, 0, 0],\n",
            "         [0, 0, 0],\n",
            "         [0, 0, 0],\n",
            "         [0, 0, 0],\n",
            "         [0, 0, 0],\n",
            "         [0, 0, 0],\n",
            "         [0, 0, 0],\n",
            "         [0, 0, 0]],\n",
            "\n",
            "        [[1, 1, 1],\n",
            "         [1, 1, 1],\n",
            "         [1, 1, 1],\n",
            "         [1, 1, 1],\n",
            "         [1, 1, 1],\n",
            "         [1, 1, 1],\n",
            "         [1, 1, 1],\n",
            "         [1, 1, 1],\n",
            "         [1, 1, 1],\n",
            "         [1, 1, 1]],\n",
            "\n",
            "        [[2, 2, 2],\n",
            "         [2, 2, 2],\n",
            "         [2, 2, 2],\n",
            "         [2, 2, 2],\n",
            "         [2, 2, 2],\n",
            "         [2, 2, 2],\n",
            "         [2, 2, 2],\n",
            "         [2, 2, 2],\n",
            "         [2, 2, 2],\n",
            "         [2, 2, 2]],\n",
            "\n",
            "        [[3, 3, 3],\n",
            "         [3, 3, 3],\n",
            "         [3, 3, 3],\n",
            "         [3, 3, 3],\n",
            "         [3, 3, 3],\n",
            "         [3, 3, 3],\n",
            "         [3, 3, 3],\n",
            "         [3, 3, 3],\n",
            "         [3, 3, 3],\n",
            "         [3, 3, 3]],\n",
            "\n",
            "        [[4, 4, 4],\n",
            "         [4, 4, 4],\n",
            "         [4, 4, 4],\n",
            "         [4, 4, 4],\n",
            "         [4, 4, 4],\n",
            "         [4, 4, 4],\n",
            "         [4, 4, 4],\n",
            "         [4, 4, 4],\n",
            "         [4, 4, 4],\n",
            "         [4, 4, 4]]])\n"
          ],
          "name": "stdout"
        }
      ]
    },
    {
      "cell_type": "code",
      "metadata": {
        "id": "_Amp9CnTS_6j"
      },
      "source": [
        "idx = torch.randint(0, 5, (3,)).repeat(5, 10, 1)\n",
        "print(idx.shape)"
      ],
      "execution_count": null,
      "outputs": []
    },
    {
      "cell_type": "code",
      "metadata": {
        "id": "7k0c0fnPXJ_f"
      },
      "source": [
        "points = torch.rand(5, 5, 10)\n"
      ],
      "execution_count": null,
      "outputs": []
    },
    {
      "cell_type": "code",
      "metadata": {
        "id": "AmL9V0RpXmKx"
      },
      "source": [
        "new_points = points[batch, idx, :]\n"
      ],
      "execution_count": null,
      "outputs": []
    },
    {
      "cell_type": "code",
      "metadata": {
        "id": "LpWoK8HgYArR",
        "colab": {
          "base_uri": "https://localhost:8080/",
          "height": 35
        },
        "outputId": "8ff98304-eb24-4c12-e3d7-0b559198626c"
      },
      "source": [
        "new_points.shape"
      ],
      "execution_count": null,
      "outputs": [
        {
          "output_type": "execute_result",
          "data": {
            "text/plain": [
              "torch.Size([5, 10, 3, 10])"
            ]
          },
          "metadata": {
            "tags": []
          },
          "execution_count": 16
        }
      ]
    },
    {
      "cell_type": "markdown",
      "metadata": {
        "id": "eLC8nT1IB1Im"
      },
      "source": [
        "##indices"
      ]
    },
    {
      "cell_type": "markdown",
      "metadata": {
        "id": "3aBnmLl3B8FS"
      },
      "source": [
        "###longtensor  \n",
        "x和mask形状不必相同"
      ]
    },
    {
      "cell_type": "code",
      "metadata": {
        "id": "I46cPVhBB6oB",
        "colab": {
          "base_uri": "https://localhost:8080/",
          "height": 35
        },
        "outputId": "5d192d2f-3094-46b5-ede6-f023b0c85fcc"
      },
      "source": [
        "#x, mask都为1-D\n",
        "x1 = torch.Tensor([5,4,3,2,1])\n",
        "\n",
        "mask1 = torch.LongTensor([1,0,2])\n",
        "x1[mask1]"
      ],
      "execution_count": null,
      "outputs": [
        {
          "output_type": "execute_result",
          "data": {
            "text/plain": [
              "tensor([4., 5., 3.])"
            ]
          },
          "metadata": {
            "tags": []
          },
          "execution_count": 13
        }
      ]
    },
    {
      "cell_type": "code",
      "metadata": {
        "id": "UI5p_-RuCd7f",
        "colab": {
          "base_uri": "https://localhost:8080/",
          "height": 71
        },
        "outputId": "a079ff2e-9a95-4b55-e529-1a92890b149e"
      },
      "source": [
        "#x 2-D\n",
        "#mask 1-D\n",
        "\n",
        "\n",
        "x2 = torch.Tensor([[ 0.,  1.,  2.,  3.,  4.],\n",
        "           [ 5.,  6.,  7.,  8.,  9.],\n",
        "           [10., 11., 12., 13., 14.]])\n",
        "\n",
        "mask1 = torch.LongTensor([0,1,2])\n",
        " \n",
        "x2[mask1]"
      ],
      "execution_count": null,
      "outputs": [
        {
          "output_type": "execute_result",
          "data": {
            "text/plain": [
              "tensor([[ 0.,  1.,  2.,  3.,  4.],\n",
              "        [ 5.,  6.,  7.,  8.,  9.],\n",
              "        [10., 11., 12., 13., 14.]])"
            ]
          },
          "metadata": {
            "tags": []
          },
          "execution_count": 14
        }
      ]
    },
    {
      "cell_type": "code",
      "metadata": {
        "id": "h-d8E-3mC7oC",
        "colab": {
          "base_uri": "https://localhost:8080/",
          "height": 71
        },
        "outputId": "b6d63e34-2256-414d-d4e2-916867594d44"
      },
      "source": [
        "#不论x是几维的，mask为LongTensor时都是按照mask中的顺序排列x[mask[i]]\n",
        "\n",
        "mask2 = torch.LongTensor([0,2,1])\n",
        " \n",
        "x2[mask2]"
      ],
      "execution_count": null,
      "outputs": [
        {
          "output_type": "execute_result",
          "data": {
            "text/plain": [
              "tensor([[ 0.,  1.,  2.,  3.,  4.],\n",
              "        [10., 11., 12., 13., 14.],\n",
              "        [ 5.,  6.,  7.,  8.,  9.]])"
            ]
          },
          "metadata": {
            "tags": []
          },
          "execution_count": 15
        }
      ]
    },
    {
      "cell_type": "code",
      "metadata": {
        "id": "Xy_KqR8vDHXk",
        "colab": {
          "base_uri": "https://localhost:8080/",
          "height": 197
        },
        "outputId": "7915089c-d0fc-49ca-c975-f7809028c2cf"
      },
      "source": [
        "#x 2-D\n",
        "#mask 2-D\n",
        "\n",
        "\n",
        "x2 = torch.Tensor([[ 0.,  1.,  2.,  3.,  4.],\n",
        "           [ 5.,  6.,  7.,  8.,  9.],\n",
        "           [10., 11., 12., 13., 14.]])\n",
        " \n",
        "mask1 = torch.LongTensor([[0,1,2],[0,1,2]])\n",
        " \n",
        "print(x2[mask1])\n",
        " \n",
        "print('x2.shape: ',x2.shape)\n",
        "print('mask1.shape: ',mask1.shape)\n",
        "print('x2[mask1].shape: ', x2[mask1].shape)"
      ],
      "execution_count": null,
      "outputs": [
        {
          "output_type": "stream",
          "text": [
            "tensor([[[ 0.,  1.,  2.,  3.,  4.],\n",
            "         [ 5.,  6.,  7.,  8.,  9.],\n",
            "         [10., 11., 12., 13., 14.]],\n",
            "\n",
            "        [[ 0.,  1.,  2.,  3.,  4.],\n",
            "         [ 5.,  6.,  7.,  8.,  9.],\n",
            "         [10., 11., 12., 13., 14.]]])\n",
            "x2.shape:  torch.Size([3, 5])\n",
            "mask1.shape:  torch.Size([2, 3])\n",
            "x2[mask1].shape:  torch.Size([2, 3, 5])\n"
          ],
          "name": "stdout"
        }
      ]
    },
    {
      "cell_type": "code",
      "metadata": {
        "id": "Gjpnk1SAEc6g",
        "colab": {
          "base_uri": "https://localhost:8080/",
          "height": 143
        },
        "outputId": "a017566e-c27e-4c63-f6de-d8f5c371376f"
      },
      "source": [
        "#我们将mask中的数字i当作x在第一个纬度上的索引就好了\n",
        "\n",
        "mask2 = torch.LongTensor([[0,0,0],[0,0,0]])\n",
        " \n",
        "x2[mask2]\n"
      ],
      "execution_count": null,
      "outputs": [
        {
          "output_type": "execute_result",
          "data": {
            "text/plain": [
              "tensor([[[0., 1., 2., 3., 4.],\n",
              "         [0., 1., 2., 3., 4.],\n",
              "         [0., 1., 2., 3., 4.]],\n",
              "\n",
              "        [[0., 1., 2., 3., 4.],\n",
              "         [0., 1., 2., 3., 4.],\n",
              "         [0., 1., 2., 3., 4.]]])"
            ]
          },
          "metadata": {
            "tags": []
          },
          "execution_count": 20
        }
      ]
    },
    {
      "cell_type": "code",
      "metadata": {
        "id": "XQxRqcd_Ydsv",
        "colab": {
          "base_uri": "https://localhost:8080/",
          "height": 35
        },
        "outputId": "258e73ed-91bb-4886-e022-f706c28aa01f"
      },
      "source": [
        "x2[[0,0,0],[0,0,0]]  #什么区别？？？"
      ],
      "execution_count": null,
      "outputs": [
        {
          "output_type": "execute_result",
          "data": {
            "text/plain": [
              "tensor([0., 0., 0.])"
            ]
          },
          "metadata": {
            "tags": []
          },
          "execution_count": 30
        }
      ]
    },
    {
      "cell_type": "code",
      "metadata": {
        "id": "iYNiEdJPGdn7",
        "colab": {
          "base_uri": "https://localhost:8080/",
          "height": 269
        },
        "outputId": "9aa60404-0740-4411-e5d1-1acd24084ccf"
      },
      "source": [
        "#x 3-D\n",
        "#mask 3-D\n",
        "\n",
        "x = torch.arange(0,27).view(3,3,3)\n",
        "print(x)\n",
        "print(x[[1,2],[1,2],[2,0]])  # x[1,1,2]和x[2,2,0]\n",
        "print(x[[2,1,0],[0],[0]])  # x[2,0,0]和x[1,0,0]和x[0,0,0]\n"
      ],
      "execution_count": null,
      "outputs": [
        {
          "output_type": "stream",
          "text": [
            "tensor([[[ 0,  1,  2],\n",
            "         [ 3,  4,  5],\n",
            "         [ 6,  7,  8]],\n",
            "\n",
            "        [[ 9, 10, 11],\n",
            "         [12, 13, 14],\n",
            "         [15, 16, 17]],\n",
            "\n",
            "        [[18, 19, 20],\n",
            "         [21, 22, 23],\n",
            "         [24, 25, 26]]])\n",
            "tensor([14, 24])\n",
            "tensor([18,  9,  0])\n",
            "ERROR! Session/line number was not unique in database. History logging moved to new session 59\n"
          ],
          "name": "stdout"
        }
      ]
    },
    {
      "cell_type": "code",
      "metadata": {
        "id": "CJ1ZR1KMXfNs",
        "colab": {
          "base_uri": "https://localhost:8080/",
          "height": 71
        },
        "outputId": "4d10f538-3da1-45fa-8b7f-e037acc7d40c"
      },
      "source": [
        "print(x[[2,1,0],[0],:])"
      ],
      "execution_count": null,
      "outputs": [
        {
          "output_type": "stream",
          "text": [
            "tensor([[18, 19, 20],\n",
            "        [ 9, 10, 11],\n",
            "        [ 0,  1,  2]])\n"
          ],
          "name": "stdout"
        }
      ]
    },
    {
      "cell_type": "markdown",
      "metadata": {
        "id": "tVvnA0UI2gd8"
      },
      "source": [
        "##sort"
      ]
    },
    {
      "cell_type": "markdown",
      "metadata": {
        "id": "E36GWkkE35rU"
      },
      "source": [
        "\n",
        "*   input (Tensor) – the input tensor  \n",
        "形式上与 numpy.narray 类似  \n",
        "*   dim (int, optional) – the dimension to sort along  \n",
        "维度，对于二维数据：dim=0 按列排序，dim=1 按行排序，默认 dim=1\n",
        "\n",
        "*   descending (bool, optional) – controls the sorting order (ascending or descending)  \n",
        "降序，descending=True 从大到小排序，**descending=False 从小到大排序，默认 descending=Flase**\n",
        "\n",
        "\n",
        "\n",
        "\n",
        "\n",
        "\n",
        "  \n"
      ]
    },
    {
      "cell_type": "markdown",
      "metadata": {
        "id": "LBNdQbQI4xR_"
      },
      "source": [
        "会返回原来的indices"
      ]
    },
    {
      "cell_type": "code",
      "metadata": {
        "id": "NnzY7tXU2iRQ",
        "colab": {
          "base_uri": "https://localhost:8080/",
          "height": 71
        },
        "outputId": "381ce175-7d42-40e4-a8f3-b80f736f8376"
      },
      "source": [
        "x = torch.randn(3,4)\n",
        "print(x)"
      ],
      "execution_count": null,
      "outputs": [
        {
          "output_type": "stream",
          "text": [
            "tensor([[-0.4366, -0.1434,  2.4892, -0.2917],\n",
            "        [ 0.8097, -1.4708, -0.1354,  0.8627],\n",
            "        [ 0.9184, -0.7001,  0.9967, -1.1782]])\n"
          ],
          "name": "stdout"
        }
      ]
    },
    {
      "cell_type": "code",
      "metadata": {
        "id": "6YME0UYt5A7g",
        "colab": {
          "base_uri": "https://localhost:8080/",
          "height": 125
        },
        "outputId": "952e4637-9301-42e6-db09-4f4a64d3c0a5"
      },
      "source": [
        "sorted, indices = torch.sort(x)  #按行从小到大排序\n",
        "print('sorted:', sorted)\n",
        "print('indices: ', indices)"
      ],
      "execution_count": null,
      "outputs": [
        {
          "output_type": "stream",
          "text": [
            "sorted: tensor([[-0.4366, -0.2917, -0.1434,  2.4892],\n",
            "        [-1.4708, -0.1354,  0.8097,  0.8627],\n",
            "        [-1.1782, -0.7001,  0.9184,  0.9967]])\n",
            "indices:  tensor([[0, 3, 1, 2],\n",
            "        [1, 2, 0, 3],\n",
            "        [3, 1, 0, 2]])\n"
          ],
          "name": "stdout"
        }
      ]
    },
    {
      "cell_type": "code",
      "metadata": {
        "id": "K1E-wOdC5Y8R",
        "colab": {
          "base_uri": "https://localhost:8080/",
          "height": 125
        },
        "outputId": "48083024-7e18-4233-bd97-51da518b29c1"
      },
      "source": [
        "sorted1, indices1 = torch.sort(x, dim=0)  #按列从小到大排序\n",
        "print('sorted1:', sorted1)\n",
        "print('indices1: ', indices1)"
      ],
      "execution_count": null,
      "outputs": [
        {
          "output_type": "stream",
          "text": [
            "sorted1: tensor([[-0.4366, -1.4708, -0.1354, -1.1782],\n",
            "        [ 0.8097, -0.7001,  0.9967, -0.2917],\n",
            "        [ 0.9184, -0.1434,  2.4892,  0.8627]])\n",
            "indices1:  tensor([[0, 1, 1, 2],\n",
            "        [1, 2, 2, 0],\n",
            "        [2, 0, 0, 1]])\n"
          ],
          "name": "stdout"
        }
      ]
    },
    {
      "cell_type": "markdown",
      "metadata": {
        "id": "mWQOCSQ2nL2b"
      },
      "source": [
        "##max"
      ]
    },
    {
      "cell_type": "markdown",
      "metadata": {
        "id": "owQyG1q1oA_s"
      },
      "source": [
        "形式： torch.max(input, dim, keepdim=False, out=None) -> (Tensor, LongTensor)  \n",
        "按维度dim 返回最大值，并且返回索引。"
      ]
    },
    {
      "cell_type": "code",
      "metadata": {
        "id": "bOOxrZp4nOIi",
        "colab": {
          "base_uri": "https://localhost:8080/",
          "height": 71
        },
        "outputId": "ed26d6b9-3ece-4a54-f68d-b0c0d7e3ca04"
      },
      "source": [
        "a = torch.randn(3,4)\n",
        "print(a)"
      ],
      "execution_count": null,
      "outputs": [
        {
          "output_type": "stream",
          "text": [
            "tensor([[-0.4535, -0.9024, -0.6280, -0.4881],\n",
            "        [ 0.2952,  0.2242, -1.0195,  0.7486],\n",
            "        [ 0.2327,  1.5419, -0.3626, -0.5007]])\n"
          ],
          "name": "stdout"
        }
      ]
    },
    {
      "cell_type": "code",
      "metadata": {
        "id": "APUxzD9doNk_",
        "colab": {
          "base_uri": "https://localhost:8080/",
          "height": 53
        },
        "outputId": "57b31386-87af-49dc-d0ee-bb6ab648bc92"
      },
      "source": [
        "maxa0 = torch.max(a, dim=0)[0]\n",
        "print('dim=0时max为： ', maxa0)\n",
        "\n",
        "maxa1 = torch.max(a, dim=1)[0]\n",
        "print('dim=1时max为： ', maxa1)"
      ],
      "execution_count": null,
      "outputs": [
        {
          "output_type": "stream",
          "text": [
            "dim=0时max为：  tensor([ 0.2952,  1.5419, -0.3626,  0.7486])\n",
            "dim=1时max为：  tensor([-0.4535,  0.7486,  1.5419])\n"
          ],
          "name": "stdout"
        }
      ]
    },
    {
      "cell_type": "code",
      "metadata": {
        "id": "ZMbbX5x7p-Pf",
        "colab": {
          "base_uri": "https://localhost:8080/",
          "height": 143
        },
        "outputId": "b78b93c7-409a-42fb-b830-8eab27a3730d"
      },
      "source": [
        "b = torch.randn(2,3,4)\n",
        "print(b)"
      ],
      "execution_count": null,
      "outputs": [
        {
          "output_type": "stream",
          "text": [
            "tensor([[[ 1.2064,  0.1783, -0.7743,  0.0690],\n",
            "         [ 0.0592,  1.9157,  0.7327,  0.5757],\n",
            "         [-0.1002, -0.1501,  0.9726, -0.0315]],\n",
            "\n",
            "        [[ 0.4632,  0.4688, -0.9933, -0.3292],\n",
            "         [ 0.9207,  0.3172, -0.6343, -0.8197],\n",
            "         [ 0.6468,  0.5792, -1.6884,  0.6103]]])\n"
          ],
          "name": "stdout"
        }
      ]
    },
    {
      "cell_type": "markdown",
      "metadata": {
        "id": "10prxeDqrc-a"
      },
      "source": [
        "size为[2， 3， 4]时，  \n",
        "dim=0时， 含有 2 个元素，2个元素内取大{1.2064>0.4632}  \n",
        "dim=1时， 每一维含有 3 个元素，3个元素内取大{1.2064>0.0592>-0.1002}  \n",
        "dim=2时， b含有 4 个元素， 4个元素内取大{1.2064>0.1783>0.0690>-0.7743}"
      ]
    },
    {
      "cell_type": "code",
      "metadata": {
        "id": "GZML1Dx3rQY-",
        "colab": {
          "base_uri": "https://localhost:8080/",
          "height": 143
        },
        "outputId": "444fd7c1-aa8f-4f7d-c6d5-88b794a22593"
      },
      "source": [
        "maxb0 = torch.max(b, dim=0)[0]\n",
        "print('dim=0时max为： ', maxb0)\n",
        "\n",
        "maxb1 = torch.max(b, dim=1)[0]\n",
        "print('dim=1时max为： ', maxb1)\n",
        "\n",
        "maxb2 = torch.max(b, dim=2)[0]\n",
        "print('dim=2时max为： ', maxb2)"
      ],
      "execution_count": null,
      "outputs": [
        {
          "output_type": "stream",
          "text": [
            "dim=0时max为：  tensor([[ 1.2064,  0.4688, -0.7743,  0.0690],\n",
            "        [ 0.9207,  1.9157,  0.7327,  0.5757],\n",
            "        [ 0.6468,  0.5792,  0.9726,  0.6103]])\n",
            "dim=1时max为：  tensor([[ 1.2064,  1.9157,  0.9726,  0.5757],\n",
            "        [ 0.9207,  0.5792, -0.6343,  0.6103]])\n",
            "dim=2时max为：  tensor([[1.2064, 1.9157, 0.9726],\n",
            "        [0.4688, 0.9207, 0.6468]])\n"
          ],
          "name": "stdout"
        }
      ]
    },
    {
      "cell_type": "code",
      "metadata": {
        "id": "_l0ou3jWqNLy",
        "colab": {
          "base_uri": "https://localhost:8080/",
          "height": 71
        },
        "outputId": "d9610e50-9ed7-49c0-c75a-5c0e8723a53f"
      },
      "source": [
        "maxb0 = torch.max(b, dim=0)[0]\n",
        "print('dim=0时max为： ', maxb0.shape)\n",
        "\n",
        "maxb1 = torch.max(b, dim=1)[0]\n",
        "print('dim=1时max为： ', maxb1.shape)\n",
        "\n",
        "maxb2 = torch.max(b, dim=2)[0]\n",
        "print('dim=2时max为： ', maxb2.shape)"
      ],
      "execution_count": null,
      "outputs": [
        {
          "output_type": "stream",
          "text": [
            "dim=0时max为：  torch.Size([3, 4])\n",
            "dim=1时max为：  torch.Size([2, 4])\n",
            "dim=2时max为：  torch.Size([2, 3])\n"
          ],
          "name": "stdout"
        }
      ]
    },
    {
      "cell_type": "markdown",
      "metadata": {
        "id": "nHfbRHpXpCo1"
      },
      "source": [
        "##softmax"
      ]
    },
    {
      "cell_type": "code",
      "metadata": {
        "id": "E4p2MVIipEgn"
      },
      "source": [
        ""
      ],
      "execution_count": null,
      "outputs": []
    },
    {
      "cell_type": "code",
      "metadata": {
        "id": "6PQ3qezLFYlW"
      },
      "source": [
        ""
      ],
      "execution_count": null,
      "outputs": []
    },
    {
      "cell_type": "markdown",
      "metadata": {
        "id": "G780fvntFY6A"
      },
      "source": [
        "##log_sofmax"
      ]
    },
    {
      "cell_type": "code",
      "metadata": {
        "id": "G8bvVZE7FfIT"
      },
      "source": [
        ""
      ],
      "execution_count": null,
      "outputs": []
    },
    {
      "cell_type": "code",
      "metadata": {
        "id": "Vll8zlh-FfLM"
      },
      "source": [
        ""
      ],
      "execution_count": null,
      "outputs": []
    },
    {
      "cell_type": "markdown",
      "metadata": {
        "id": "4BQ0323lnS0B"
      },
      "source": [
        "##sum"
      ]
    },
    {
      "cell_type": "code",
      "metadata": {
        "id": "OTFAJKgTnVdJ"
      },
      "source": [
        ""
      ],
      "execution_count": null,
      "outputs": []
    },
    {
      "cell_type": "markdown",
      "metadata": {
        "id": "N88fgEWEnPvD"
      },
      "source": [
        "##cat"
      ]
    },
    {
      "cell_type": "markdown",
      "metadata": {
        "id": "o2zYUcjyyUVn"
      },
      "source": [
        "torch.cat(seq, dim=0, out=None) → Tensor\n",
        "\n",
        "在指定的维度dim上对序列seq进行连接操作。\n",
        "\n",
        "参数：\n",
        "\n",
        "seq (sequence of Tensors) - Python序列或相同类型的张量序列  \n",
        "dim (int, optional) - 沿着此维度连接张量  \n",
        "out (Tensor, optional) - 输出参数"
      ]
    },
    {
      "cell_type": "code",
      "metadata": {
        "id": "4tAyXaJIzVuz"
      },
      "source": [
        "a0=torch.Tensor([[[[1,1,1,1],[2,2,2,2]]]])\n",
        "a1=torch.Tensor([[[[3,3,3,3],[4,4,4,4]]]])"
      ],
      "execution_count": null,
      "outputs": []
    },
    {
      "cell_type": "code",
      "metadata": {
        "id": "oavYSwH2zaYS",
        "colab": {
          "base_uri": "https://localhost:8080/",
          "height": 35
        },
        "outputId": "894c37b0-5f97-4017-c1a4-e58638859dd0"
      },
      "source": [
        "print(a0.shape)"
      ],
      "execution_count": null,
      "outputs": [
        {
          "output_type": "stream",
          "text": [
            "torch.Size([1, 1, 2, 4])\n"
          ],
          "name": "stdout"
        }
      ]
    },
    {
      "cell_type": "code",
      "metadata": {
        "id": "a9UaeK87zeQj",
        "colab": {
          "base_uri": "https://localhost:8080/",
          "height": 125
        },
        "outputId": "0019923d-3616-4f6f-b27f-48c09023d118"
      },
      "source": [
        "cat0 = torch.cat((a0,a1),dim=0)\n",
        "print(cat0)"
      ],
      "execution_count": null,
      "outputs": [
        {
          "output_type": "stream",
          "text": [
            "tensor([[[[1., 1., 1., 1.],\n",
            "          [2., 2., 2., 2.]]],\n",
            "\n",
            "\n",
            "        [[[3., 3., 3., 3.],\n",
            "          [4., 4., 4., 4.]]]])\n"
          ],
          "name": "stdout"
        }
      ]
    },
    {
      "cell_type": "code",
      "metadata": {
        "id": "67CSnvRDzlmV",
        "colab": {
          "base_uri": "https://localhost:8080/",
          "height": 35
        },
        "outputId": "0635c20b-d6cd-4299-ff89-640a45f379ed"
      },
      "source": [
        "cat0.shape"
      ],
      "execution_count": null,
      "outputs": [
        {
          "output_type": "execute_result",
          "data": {
            "text/plain": [
              "torch.Size([2, 1, 2, 4])"
            ]
          },
          "metadata": {
            "tags": []
          },
          "execution_count": 22
        }
      ]
    },
    {
      "cell_type": "code",
      "metadata": {
        "id": "d27PW5nzzxYM",
        "colab": {
          "base_uri": "https://localhost:8080/",
          "height": 89
        },
        "outputId": "59cce53f-58de-4234-f850-121d6961c363"
      },
      "source": [
        "cat2 = torch.cat((a0,a1),dim=2)\n",
        "print(cat2)"
      ],
      "execution_count": null,
      "outputs": [
        {
          "output_type": "stream",
          "text": [
            "tensor([[[[1., 1., 1., 1.],\n",
            "          [2., 2., 2., 2.],\n",
            "          [3., 3., 3., 3.],\n",
            "          [4., 4., 4., 4.]]]])\n"
          ],
          "name": "stdout"
        }
      ]
    },
    {
      "cell_type": "code",
      "metadata": {
        "id": "te7pX8Hqz-Qe",
        "colab": {
          "base_uri": "https://localhost:8080/",
          "height": 35
        },
        "outputId": "1d877b02-05d1-41e4-ecca-aa97cb47e9b0"
      },
      "source": [
        "cat2.shape"
      ],
      "execution_count": null,
      "outputs": [
        {
          "output_type": "execute_result",
          "data": {
            "text/plain": [
              "torch.Size([1, 1, 4, 4])"
            ]
          },
          "metadata": {
            "tags": []
          },
          "execution_count": 27
        }
      ]
    },
    {
      "cell_type": "code",
      "metadata": {
        "id": "osQ8AuALz_wS",
        "colab": {
          "base_uri": "https://localhost:8080/",
          "height": 53
        },
        "outputId": "3c9d2a27-4696-4ba5-b433-3bd90b4e95d1"
      },
      "source": [
        "cat3 = torch.cat((a0,a1),dim=3)\n",
        "print(cat3)"
      ],
      "execution_count": null,
      "outputs": [
        {
          "output_type": "stream",
          "text": [
            "tensor([[[[1., 1., 1., 1., 3., 3., 3., 3.],\n",
            "          [2., 2., 2., 2., 4., 4., 4., 4.]]]])\n"
          ],
          "name": "stdout"
        }
      ]
    },
    {
      "cell_type": "markdown",
      "metadata": {
        "id": "CwuUJhJm31Hh"
      },
      "source": [
        "torch.rand()\n",
        "\n",
        "torch.randn()\n",
        "\n",
        "torch.normal()\n",
        "\n",
        "torch.linespace()"
      ]
    },
    {
      "cell_type": "markdown",
      "metadata": {
        "id": "z4xOWwk9LxIo"
      },
      "source": [
        "##矩阵相乘"
      ]
    },
    {
      "cell_type": "code",
      "metadata": {
        "id": "0LuJckUoL1WH",
        "colab": {
          "base_uri": "https://localhost:8080/",
          "height": 161
        },
        "outputId": "c4f01d97-8a66-4a7d-a038-e6721b1795da"
      },
      "source": [
        "a = torch.ones(2, 3, 4)\n",
        "print('a: ', a)\n",
        "b = torch.Tensor([1, 2, 3])\n",
        "print('b: ', b)"
      ],
      "execution_count": null,
      "outputs": [
        {
          "output_type": "stream",
          "text": [
            "a:  tensor([[[1., 1., 1., 1.],\n",
            "         [1., 1., 1., 1.],\n",
            "         [1., 1., 1., 1.]],\n",
            "\n",
            "        [[1., 1., 1., 1.],\n",
            "         [1., 1., 1., 1.],\n",
            "         [1., 1., 1., 1.]]])\n",
            "b:  tensor([1., 2., 3.])\n"
          ],
          "name": "stdout"
        }
      ]
    },
    {
      "cell_type": "code",
      "metadata": {
        "id": "hUNwdjJvbcLQ",
        "colab": {
          "base_uri": "https://localhost:8080/",
          "height": 53
        },
        "outputId": "bdac285e-c0b3-4623-d0a8-88d2fb3184d6"
      },
      "source": [
        "b = b.repeat(2,1)\n",
        "print('b: ', b)"
      ],
      "execution_count": null,
      "outputs": [
        {
          "output_type": "stream",
          "text": [
            "b:  tensor([[1., 2., 3.],\n",
            "        [1., 2., 3.]])\n"
          ],
          "name": "stdout"
        }
      ]
    },
    {
      "cell_type": "code",
      "metadata": {
        "id": "yZtQJ_uDcG6w",
        "colab": {
          "base_uri": "https://localhost:8080/",
          "height": 35
        },
        "outputId": "5824ff00-20c6-4b20-fc0d-37465834af77"
      },
      "source": [
        "b.shape"
      ],
      "execution_count": null,
      "outputs": [
        {
          "output_type": "execute_result",
          "data": {
            "text/plain": [
              "torch.Size([2, 3])"
            ]
          },
          "metadata": {
            "tags": []
          },
          "execution_count": 16
        }
      ]
    },
    {
      "cell_type": "code",
      "metadata": {
        "id": "Jh-hZ57zg-Kl"
      },
      "source": [
        "b= b.view(2, 3, 1)"
      ],
      "execution_count": null,
      "outputs": []
    },
    {
      "cell_type": "code",
      "metadata": {
        "id": "3Ycul5qqhKgs",
        "colab": {
          "base_uri": "https://localhost:8080/",
          "height": 143
        },
        "outputId": "d9799900-1d66-441b-9ef9-1ddd9f8c46c0"
      },
      "source": [
        "print('b: ', b)"
      ],
      "execution_count": null,
      "outputs": [
        {
          "output_type": "stream",
          "text": [
            "b:  tensor([[[1.],\n",
            "         [2.],\n",
            "         [3.]],\n",
            "\n",
            "        [[1.],\n",
            "         [2.],\n",
            "         [3.]]])\n"
          ],
          "name": "stdout"
        }
      ]
    },
    {
      "cell_type": "code",
      "metadata": {
        "id": "EC_AGhDHaMCL",
        "colab": {
          "base_uri": "https://localhost:8080/",
          "height": 143
        },
        "outputId": "986ab549-aa37-41ba-e205-b4d7c5497292"
      },
      "source": [
        "mul = a * b\n",
        "print('output:', mul)"
      ],
      "execution_count": null,
      "outputs": [
        {
          "output_type": "stream",
          "text": [
            "output: tensor([[[1., 1., 1., 1.],\n",
            "         [2., 2., 2., 2.],\n",
            "         [3., 3., 3., 3.]],\n",
            "\n",
            "        [[1., 1., 1., 1.],\n",
            "         [2., 2., 2., 2.],\n",
            "         [3., 3., 3., 3.]]])\n"
          ],
          "name": "stdout"
        }
      ]
    },
    {
      "cell_type": "code",
      "metadata": {
        "id": "5wkWaoN7agzj",
        "colab": {
          "base_uri": "https://localhost:8080/",
          "height": 35
        },
        "outputId": "2ab6df12-e963-43eb-fa52-204b4390d167"
      },
      "source": [
        "mul.shape"
      ],
      "execution_count": null,
      "outputs": [
        {
          "output_type": "execute_result",
          "data": {
            "text/plain": [
              "torch.Size([2, 3, 4])"
            ]
          },
          "metadata": {
            "tags": []
          },
          "execution_count": 26
        }
      ]
    },
    {
      "cell_type": "code",
      "metadata": {
        "id": "xCa2vQUoj4Az"
      },
      "source": [
        ""
      ],
      "execution_count": null,
      "outputs": []
    },
    {
      "cell_type": "markdown",
      "metadata": {
        "id": "2ZMAbMe3FUOG"
      },
      "source": [
        ""
      ]
    }
  ]
}