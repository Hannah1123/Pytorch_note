{
  "nbformat": 4,
  "nbformat_minor": 0,
  "metadata": {
    "colab": {
      "name": "Dictionaries.ipynb",
      "provenance": [],
      "toc_visible": true,
      "include_colab_link": true
    },
    "kernelspec": {
      "name": "python3",
      "display_name": "Python 3"
    }
  },
  "cells": [
    {
      "cell_type": "markdown",
      "metadata": {
        "id": "view-in-github",
        "colab_type": "text"
      },
      "source": [
        "<a href=\"https://colab.research.google.com/github/Hannah1123/Pytorch_note/blob/main/Dictionaries.ipynb\" target=\"_parent\"><img src=\"https://colab.research.google.com/assets/colab-badge.svg\" alt=\"Open In Colab\"/></a>"
      ]
    },
    {
      "cell_type": "markdown",
      "metadata": {
        "id": "FttbBrT-JLhk"
      },
      "source": [
        "# Dictionaries in Python"
      ]
    },
    {
      "cell_type": "markdown",
      "metadata": {
        "id": "gMHFXh-vJLhp"
      },
      "source": [
        "### What are Dictionaries?\n",
        "A Python dictionary is a built-in data type which consists of a key and an associated value. Dictionaries are indexed by *key*. In simple terms, a dictionary is a set of *key : value* pairs, where *key* has to be unique. The value can be almost any Python object. \n",
        "\n",
        "In this section we will discuss about **dictionaries** in details which is an important data structure in python.\n"
      ]
    },
    {
      "cell_type": "markdown",
      "metadata": {
        "id": "unVTznMiJLhu"
      },
      "source": [
        "## Real-World Example"
      ]
    },
    {
      "cell_type": "markdown",
      "metadata": {
        "id": "o83-2YQMJLhx"
      },
      "source": [
        "The real-world example could be phone book in which contact names act as key and their corresponding phone number as value. Phone books allow you to quickly retrieve the information (phone number) associated with a given key (a person’s name). So, instead of having to read a phone book front to back in order to find someone’s number, you can jump more or less directly to a name and look up the associated information. \n",
        "\n",
        "\n",
        "Dictionaries allow you to quickly find the information associated with a given key. Dictionaries are mutable, which means they can be changed. The values that the keys point to can be any Python value. Dictionaries are unordered, so the order that the keys are added doesn't necessarily reflect what order they may be reported back.\n",
        "\n",
        "\n",
        "In summary, dictionaries are one of the most frequently used and most important data structures in computer science. So, how does Python handle dictionaries? Let’s take a tour of the dictionary implementations available in core Python and the Python standard library."
      ]
    },
    {
      "cell_type": "markdown",
      "metadata": {
        "id": "kYBAtX1pJLh0"
      },
      "source": [
        "## Outline"
      ]
    },
    {
      "cell_type": "markdown",
      "metadata": {
        "id": "ojJ74s0PJLh1"
      },
      "source": [
        "The following will be discussed in this section:\n",
        "\n",
        "    1) Constructing and accessing objects (values) from dictionary\n",
        "    2) Add a value to the dictionary\n",
        "    3) Remove a key and it's value\n",
        "    4) Check the length of dictionary and test the dictionary\n",
        "    5) Various ways to print all the keys and values \n",
        "    6) Sorting the dictionary\n",
        "    7) Nesting Dictionaries\n",
        "    8) Merging Dictionaries"
      ]
    },
    {
      "cell_type": "markdown",
      "metadata": {
        "id": "S5r5AVrTJLh4"
      },
      "source": [
        "### 1. Constructing a Dictionary and accessing objects (values) from dictionary\n",
        "Let's see how we can construct dictionaries to get a better understanding of how they work!"
      ]
    },
    {
      "cell_type": "code",
      "metadata": {
        "id": "RytX6ziqJLh6"
      },
      "source": [
        "# Creating a dictionary with '{}' curly brackets  and ':' colon to signify a key and a value\n",
        "my_dict = {'key1':'value1','key2':'value2'}"
      ],
      "execution_count": null,
      "outputs": []
    },
    {
      "cell_type": "code",
      "metadata": {
        "scrolled": true,
        "id": "TzEIdDhbJLiC",
        "outputId": "ad0ac020-d0eb-4203-807d-dee03a35ff8c"
      },
      "source": [
        "# Print values by their key using '[]' square brackets to index it.\n",
        "print(my_dict['key1'])"
      ],
      "execution_count": null,
      "outputs": [
        {
          "output_type": "stream",
          "text": [
            "value1\n"
          ],
          "name": "stdout"
        }
      ]
    },
    {
      "cell_type": "markdown",
      "metadata": {
        "id": "OBeUI44PJLiK"
      },
      "source": [
        "We can also create keys by assignment. For instance, if we started off with an empty dictionary, we could continually add data to it:"
      ]
    },
    {
      "cell_type": "code",
      "metadata": {
        "id": "aZavWRZjJLiQ"
      },
      "source": [
        "# Create a new dictionary\n",
        "d = {}"
      ],
      "execution_count": null,
      "outputs": []
    },
    {
      "cell_type": "code",
      "metadata": {
        "id": "RjfhxwmnJLiX"
      },
      "source": [
        "# Create a new key through assignment\n",
        "d['animal'] = 'Dog' # Here animal is the 'Key' and Dog is the 'value'"
      ],
      "execution_count": null,
      "outputs": []
    },
    {
      "cell_type": "code",
      "metadata": {
        "id": "_18pGDhvJLih"
      },
      "source": [
        "# Can do this with any object\n",
        "d['answer'] = 42 # Here answer is the 'Key' and 42 is the 'value'"
      ],
      "execution_count": null,
      "outputs": []
    },
    {
      "cell_type": "code",
      "metadata": {
        "id": "C-XaQiPmJLio",
        "colab": {
          "base_uri": "https://localhost:8080/",
          "height": 35
        },
        "outputId": "8349e17d-94f4-4e92-f883-8f2993f61e88"
      },
      "source": [
        "# Print the keys and values of the variable d\n",
        "print(d)"
      ],
      "execution_count": null,
      "outputs": [
        {
          "output_type": "stream",
          "text": [
            "{'animal': 'Dog', 'answer': 42}\n"
          ],
          "name": "stdout"
        }
      ]
    },
    {
      "cell_type": "code",
      "metadata": {
        "id": "GJNV2JmeJLi0"
      },
      "source": [
        "# Now lets take a practical example and create a phone book:\n",
        "phonebook = {'Shamsheer':487723456, \\\n",
        "'Saqib':409238403, 'Nabin':476230945, \\\n",
        "'Michael':482723144}"
      ],
      "execution_count": null,
      "outputs": []
    },
    {
      "cell_type": "code",
      "metadata": {
        "id": "PsyOYT0ZJLi4",
        "colab": {
          "base_uri": "https://localhost:8080/",
          "height": 35
        },
        "outputId": "dc38828a-9dc4-4258-e3f0-f654e93faecd"
      },
      "source": [
        "# Now lets print the phonebook\n",
        "print(phonebook)"
      ],
      "execution_count": null,
      "outputs": [
        {
          "output_type": "stream",
          "text": [
            "{'Shamsheer': 487723456, 'Saqib': 409238403, 'Nabin': 476230945, 'Michael': 482723144}\n"
          ],
          "name": "stdout"
        }
      ]
    },
    {
      "cell_type": "code",
      "metadata": {
        "id": "C1xLRM4ZJLi-",
        "colab": {
          "base_uri": "https://localhost:8080/",
          "height": 35
        },
        "outputId": "c587a35f-58ee-4c6d-d2df-9f7954ead2e0"
      },
      "source": [
        "# If you want to search a Phone Number of a specific person. Please make sure that the Keys are unique.\n",
        "phonebook['Shamsheer']"
      ],
      "execution_count": null,
      "outputs": [
        {
          "output_type": "execute_result",
          "data": {
            "text/plain": [
              "487723456"
            ]
          },
          "metadata": {
            "tags": []
          },
          "execution_count": 8
        }
      ]
    },
    {
      "cell_type": "markdown",
      "metadata": {
        "id": "AkdG3SL1JLjH"
      },
      "source": [
        "### 2. Add a value to the dictionary\n",
        "***Syntax is mydict[key]=\"value\" ***\n",
        "   \n",
        "#### Task: \"Add entry of your name with number to the phone and print the dictionary\""
      ]
    },
    {
      "cell_type": "code",
      "metadata": {
        "id": "gowK-zXeJLjI",
        "colab": {
          "base_uri": "https://localhost:8080/",
          "height": 35
        },
        "outputId": "3ac989ab-1700-406b-e511-158074c0557b"
      },
      "source": [
        "# phonebook[]= your id\n",
        "phonebook['hannah'] = 123456\n",
        "\n",
        "# print the dictionary\n",
        "print(phonebook)"
      ],
      "execution_count": null,
      "outputs": [
        {
          "output_type": "stream",
          "text": [
            "{'Shamsheer': 487723456, 'Saqib': 409238403, 'Nabin': 476230945, 'Michael': 482723144, 'hannah': 123456}\n"
          ],
          "name": "stdout"
        }
      ]
    },
    {
      "cell_type": "markdown",
      "metadata": {
        "id": "5IuE7SFlJLjP"
      },
      "source": [
        "### 3. Remove a key and it's value\n",
        "***Syntax is del mydict[key]***"
      ]
    },
    {
      "cell_type": "code",
      "metadata": {
        "id": "YnD5rpWAJLjT",
        "colab": {
          "base_uri": "https://localhost:8080/",
          "height": 35
        },
        "outputId": "74f19ea8-6eeb-411d-f38f-05c4ed0cdfff"
      },
      "source": [
        "del phonebook[\"Shamsheer\"]\n",
        "print(phonebook)"
      ],
      "execution_count": null,
      "outputs": [
        {
          "output_type": "stream",
          "text": [
            "{'Saqib': 409238403, 'Nabin': 476230945, 'Michael': 482723144, 'hannah': 123456}\n"
          ],
          "name": "stdout"
        }
      ]
    },
    {
      "cell_type": "markdown",
      "metadata": {
        "id": "5mei-MtRJLjZ"
      },
      "source": [
        "### 4. Check the length of dictionary and test the dictionary\n",
        "The len() function gives the number of pairs in the dictionary."
      ]
    },
    {
      "cell_type": "code",
      "metadata": {
        "id": "a2MQ--epJLjb",
        "colab": {
          "base_uri": "https://localhost:8080/",
          "height": 35
        },
        "outputId": "ad718813-e1af-4c40-ee03-557d36fa69a1"
      },
      "source": [
        "print(len(phonebook))"
      ],
      "execution_count": null,
      "outputs": [
        {
          "output_type": "stream",
          "text": [
            "4\n"
          ],
          "name": "stdout"
        }
      ]
    },
    {
      "cell_type": "code",
      "metadata": {
        "id": "RQ71eo7ZJLjn",
        "colab": {
          "base_uri": "https://localhost:8080/",
          "height": 35
        },
        "outputId": "3d2bf3c6-6768-4669-b70d-708231714dfa"
      },
      "source": [
        "# Test the dictionary\n",
        "# Check if a key exists in a given dictionary by using the 'in' operator like this:\n",
        "'Shamsheer' in phonebook"
      ],
      "execution_count": null,
      "outputs": [
        {
          "output_type": "execute_result",
          "data": {
            "text/plain": [
              "False"
            ]
          },
          "metadata": {
            "tags": []
          },
          "execution_count": 12
        }
      ]
    },
    {
      "cell_type": "code",
      "metadata": {
        "id": "-UvhCXG5JLj1",
        "colab": {
          "base_uri": "https://localhost:8080/",
          "height": 89
        },
        "outputId": "bd486d44-d25b-4e1a-9977-4eef89fe9284"
      },
      "source": [
        "# Applying explicit looping to find a key\n",
        "for name in phonebook:\n",
        "    if \"Shamsheer\" in phonebook:\n",
        "        print(\"Key found\")\n",
        "        break\n",
        "    else:\n",
        "        print(\"Key not found\")"
      ],
      "execution_count": null,
      "outputs": [
        {
          "output_type": "stream",
          "text": [
            "Key not found\n",
            "Key not found\n",
            "Key not found\n",
            "Key not found\n"
          ],
          "name": "stdout"
        }
      ]
    },
    {
      "cell_type": "markdown",
      "metadata": {
        "id": "cRAGSwXAJLj6"
      },
      "source": [
        "### 5. Various ways to print all the keys and values "
      ]
    },
    {
      "cell_type": "code",
      "metadata": {
        "id": "da3tyE55JLj8",
        "outputId": "c3f00e35-2a3b-4ab3-db5f-7dadccbc749e"
      },
      "source": [
        "# Printing all the keys with the help of 'for' loop\n",
        "for key in phonebook:\n",
        "    print(key)"
      ],
      "execution_count": null,
      "outputs": [
        {
          "output_type": "stream",
          "text": [
            "Nabin\n",
            "Saqib\n",
            "Michael\n"
          ],
          "name": "stdout"
        }
      ]
    },
    {
      "cell_type": "code",
      "metadata": {
        "id": "j3qmN_GJJLkG",
        "outputId": "4a4fb79e-053b-4b9a-da0c-3221e6ca77b3"
      },
      "source": [
        "# Printing all the values with the help of 'for' loop\n",
        "for key in phonebook:\n",
        "    value= phonebook[key]\n",
        "    print(value)"
      ],
      "execution_count": null,
      "outputs": [
        {
          "output_type": "stream",
          "text": [
            "476230945\n",
            "409238403\n",
            "482723144\n"
          ],
          "name": "stdout"
        }
      ]
    },
    {
      "cell_type": "code",
      "metadata": {
        "id": "Wf3T0AokJLkP",
        "outputId": "fbe68871-143a-4ec1-9dd5-126752e1fcd6"
      },
      "source": [
        "# Printing all the Keys with the direct 'keys' function\n",
        "keys=phonebook.keys()\n",
        "print(keys)"
      ],
      "execution_count": null,
      "outputs": [
        {
          "output_type": "stream",
          "text": [
            "dict_keys(['Nabin', 'Saqib', 'Michael'])\n"
          ],
          "name": "stdout"
        }
      ]
    },
    {
      "cell_type": "code",
      "metadata": {
        "id": "tIBnrqZYJLkX",
        "outputId": "dc01b681-f8f0-4ca1-c79d-673e64a29200"
      },
      "source": [
        "# Printing all the values with the direct 'values' function\n",
        "values=phonebook.values()\n",
        "print(values)"
      ],
      "execution_count": null,
      "outputs": [
        {
          "output_type": "stream",
          "text": [
            "dict_values([476230945, 409238403, 482723144])\n"
          ],
          "name": "stdout"
        }
      ]
    },
    {
      "cell_type": "code",
      "metadata": {
        "id": "ER0X3ws-JLkb",
        "colab": {
          "base_uri": "https://localhost:8080/",
          "height": 89
        },
        "outputId": "ec887800-3d87-4a83-d965-11fd0b568093"
      },
      "source": [
        "# Printing keys and values at the same time using 'for' loop\n",
        "for key,val in phonebook.items():\n",
        "    print (key, val)"
      ],
      "execution_count": null,
      "outputs": [
        {
          "output_type": "stream",
          "text": [
            "Shamsheer 487723456\n",
            "Saqib 409238403\n",
            "Nabin 476230945\n",
            "Michael 482723144\n"
          ],
          "name": "stdout"
        }
      ]
    },
    {
      "cell_type": "code",
      "metadata": {
        "id": "mcbYCUp2W-U6",
        "colab": {
          "base_uri": "https://localhost:8080/",
          "height": 35
        },
        "outputId": "9c5c18cd-5888-4b8b-9fb3-757994ec2a6b"
      },
      "source": [
        "print(phonebook.items())"
      ],
      "execution_count": null,
      "outputs": [
        {
          "output_type": "stream",
          "text": [
            "dict_items([('Shamsheer', 487723456), ('Saqib', 409238403), ('Nabin', 476230945), ('Michael', 482723144)])\n"
          ],
          "name": "stdout"
        }
      ]
    },
    {
      "cell_type": "markdown",
      "metadata": {
        "id": "r0qMlEOEJLkj"
      },
      "source": [
        "### 6. Sorting the dictionary"
      ]
    },
    {
      "cell_type": "code",
      "metadata": {
        "id": "0rdis_k7JLkl",
        "outputId": "41b60ee2-4ecd-430a-90b8-89d4adafece4"
      },
      "source": [
        "#Before sorting\n",
        "for key, value in phonebook.items():\n",
        "    print(key,value)\n",
        "    \n",
        "print(\"********************\")\n",
        "\n",
        "# After Sorting. The 'sorted' function can be directly used with the dictionary to sort the data in an \n",
        "# alphabetical order.\n",
        "for key, value in sorted(phonebook.items()):\n",
        "    print (key, value)"
      ],
      "execution_count": null,
      "outputs": [
        {
          "output_type": "stream",
          "text": [
            "Nabin 476230945\n",
            "Saqib 409238403\n",
            "Michael 482723144\n",
            "********************\n",
            "Michael 482723144\n",
            "Nabin 476230945\n",
            "Saqib 409238403\n"
          ],
          "name": "stdout"
        }
      ]
    },
    {
      "cell_type": "markdown",
      "metadata": {
        "id": "OK42NO0WJLkp"
      },
      "source": [
        "### 7. Nesting Dictionaries"
      ]
    },
    {
      "cell_type": "markdown",
      "metadata": {
        "id": "JnpjX5QwJLkq"
      },
      "source": [
        "It is important to note that dictionaries are very flexible in the data types they can hold.\n",
        "For instance:"
      ]
    },
    {
      "cell_type": "code",
      "metadata": {
        "id": "IRfXBrBaJLkt"
      },
      "source": [
        "# Here 123 is an integer, [12, 23, 33] is an integer array, and ['item0','item1','item2'] is a string array.\n",
        "my_dict = {'key1':123,'key2':[12,23,33],'key3':['item0','item1','item2']}"
      ],
      "execution_count": null,
      "outputs": []
    },
    {
      "cell_type": "code",
      "metadata": {
        "id": "cS8QMyFiJLky",
        "colab": {
          "base_uri": "https://localhost:8080/",
          "height": 35
        },
        "outputId": "342a621f-8b86-418f-8dc9-3db23b015551"
      },
      "source": [
        "# Lets call all the items from the dictionary.\n",
        "my_dict['key3']"
      ],
      "execution_count": null,
      "outputs": [
        {
          "output_type": "execute_result",
          "data": {
            "text/plain": [
              "['item0', 'item1', 'item2']"
            ]
          },
          "metadata": {
            "tags": []
          },
          "execution_count": 6
        }
      ]
    },
    {
      "cell_type": "code",
      "metadata": {
        "id": "wCLz1iLDJLk4",
        "outputId": "ef7df904-d13d-4062-a418-c6be3d462dc0"
      },
      "source": [
        "# Lets call only one value instead of all items from the key3.\n",
        "my_dict['key3'][0]"
      ],
      "execution_count": null,
      "outputs": [
        {
          "output_type": "execute_result",
          "data": {
            "text/plain": [
              "'item0'"
            ]
          },
          "metadata": {
            "tags": []
          },
          "execution_count": 23
        }
      ]
    },
    {
      "cell_type": "code",
      "metadata": {
        "id": "FA9lWGnTJLk7",
        "colab": {
          "base_uri": "https://localhost:8080/",
          "height": 35
        },
        "outputId": "34e15d79-803a-43e2-e0bd-44d507c2b96f"
      },
      "source": [
        "# Lets apply methods on that value.\n",
        "my_dict['key3'][0].upper()"
      ],
      "execution_count": null,
      "outputs": [
        {
          "output_type": "execute_result",
          "data": {
            "text/plain": [
              "'ITEM0'"
            ]
          },
          "metadata": {
            "tags": []
          },
          "execution_count": 7
        }
      ]
    },
    {
      "cell_type": "markdown",
      "metadata": {
        "id": "sKz2vhHlJLlA"
      },
      "source": [
        "**Similary we can apply this method on our phonebook example.**"
      ]
    },
    {
      "cell_type": "code",
      "metadata": {
        "id": "6vZ5w7BbJLlB",
        "colab": {
          "base_uri": "https://localhost:8080/",
          "height": 107
        },
        "outputId": "0c2fb559-7f24-46ff-f048-585fb654c8a6"
      },
      "source": [
        "# Lets add another user having name Tom with its phone number and email address\n",
        "phonebook['Tom']=[485630183, 'tom@uts.edu.au']\n",
        "for keys,values in phonebook.items():\n",
        "    print(keys,values)"
      ],
      "execution_count": null,
      "outputs": [
        {
          "output_type": "stream",
          "text": [
            "Shamsheer 487723456\n",
            "Saqib 409238403\n",
            "Nabin 476230945\n",
            "Michael 482723144\n",
            "Tom [485630183, 'tom@uts.edu.au']\n"
          ],
          "name": "stdout"
        }
      ]
    },
    {
      "cell_type": "markdown",
      "metadata": {
        "id": "XZeSux_yJLlF"
      },
      "source": [
        "#### Task: \"Create a phonebook and add contact details of 3 friends and print it.\""
      ]
    },
    {
      "cell_type": "code",
      "metadata": {
        "id": "Jrbir8_FJLlG"
      },
      "source": [
        "# phonebook[] = [phonenumber, 'email-id']\n",
        "\n",
        "# Use one of the methods mentioned above to print the keys and values of the dictionary.\n"
      ],
      "execution_count": null,
      "outputs": []
    },
    {
      "cell_type": "markdown",
      "metadata": {
        "id": "nVF-PWjjJLlJ"
      },
      "source": [
        "### 8. Merging Dictionaries"
      ]
    },
    {
      "cell_type": "markdown",
      "metadata": {
        "id": "LMiFhjHdJLlK"
      },
      "source": [
        "How about concatenating dictionaries!\n",
        "\n",
        "The update() method merges the keys and values of one dictionary into another and overwrites values of the same key.\n",
        "\n",
        "**Example:**"
      ]
    },
    {
      "cell_type": "code",
      "metadata": {
        "id": "QObP8IcMJLlL"
      },
      "source": [
        "# Task: Create two Dictionaries\n",
        "phonebook1 = {'Shamsheer':880633667, \\\n",
        "'Saqib':678434645, 'Nabin':765834409, \\\n",
        "'Michael':112234523}\n",
        "\n",
        "phonebook2 = {'Robert':34056616, \\\n",
        "'Saqib':678434673, 'Nabin':765834448, \\\n",
        "'Smith':982256526}"
      ],
      "execution_count": null,
      "outputs": []
    },
    {
      "cell_type": "code",
      "metadata": {
        "id": "YgPoFjqTJLlR",
        "outputId": "b80c5144-20f1-42c3-a80b-691b1ff0e4d3"
      },
      "source": [
        "# Write the code to show the dictionary contents:\n",
        "print (phonebook1)\n",
        "print (phonebook2)"
      ],
      "execution_count": null,
      "outputs": [
        {
          "output_type": "stream",
          "text": [
            "{'Nabin': 765834409, 'Saqib': 678434645, 'Michael': 112234523, 'Shamsheer': 880633667}\n",
            "{'Smith': 982256526, 'Nabin': 765834448, 'Robert': 34056616, 'Saqib': 678434673}\n"
          ],
          "name": "stdout"
        }
      ]
    },
    {
      "cell_type": "code",
      "metadata": {
        "scrolled": true,
        "id": "iT1cOBE_JLlY",
        "colab": {
          "base_uri": "https://localhost:8080/",
          "height": 35
        },
        "outputId": "970e3899-dbc8-40c5-aa71-f78609186cc9"
      },
      "source": [
        "# Lets merge them together!\n",
        "# Syntax: dictionay1.update(dictionary2)\n",
        "# Give it try!\n",
        "\n",
        "phonebook1.update(phonebook2)\n",
        "print(phonebook1)"
      ],
      "execution_count": null,
      "outputs": [
        {
          "output_type": "stream",
          "text": [
            "{'Shamsheer': 880633667, 'Saqib': 678434673, 'Nabin': 765834448, 'Michael': 112234523, 'Robert': 34056616, 'Smith': 982256526}\n"
          ],
          "name": "stdout"
        }
      ]
    },
    {
      "cell_type": "code",
      "metadata": {
        "id": "QqsfmrB8X7cP",
        "colab": {
          "base_uri": "https://localhost:8080/",
          "height": 35
        },
        "outputId": "25cba14d-37bc-4377-8450-312b31cde5a9"
      },
      "source": [
        "phonebook1.values()"
      ],
      "execution_count": null,
      "outputs": [
        {
          "output_type": "execute_result",
          "data": {
            "text/plain": [
              "dict_values([880633667, 678434673, 765834448, 112234523, 34056616, 982256526])"
            ]
          },
          "metadata": {
            "tags": []
          },
          "execution_count": 11
        }
      ]
    },
    {
      "cell_type": "code",
      "metadata": {
        "id": "NdoOPMYIYKr-"
      },
      "source": [
        "phonebook3 = phonebook1.copy()"
      ],
      "execution_count": null,
      "outputs": []
    },
    {
      "cell_type": "code",
      "metadata": {
        "id": "pAQwRIqYYQPt",
        "colab": {
          "base_uri": "https://localhost:8080/",
          "height": 35
        },
        "outputId": "1d0ae026-6a7f-4f0e-c54e-36d506927d14"
      },
      "source": [
        "print(phonebook3)"
      ],
      "execution_count": null,
      "outputs": [
        {
          "output_type": "stream",
          "text": [
            "{'Shamsheer': 880633667, 'Saqib': 678434673, 'Nabin': 765834448, 'Michael': 112234523, 'Robert': 34056616, 'Smith': 982256526}\n"
          ],
          "name": "stdout"
        }
      ]
    },
    {
      "cell_type": "code",
      "metadata": {
        "id": "BuY68YIlYWb9",
        "colab": {
          "base_uri": "https://localhost:8080/",
          "height": 35
        },
        "outputId": "4f62c91e-64c3-44eb-f35f-495b4492435f"
      },
      "source": [
        "phonebook3.items()"
      ],
      "execution_count": null,
      "outputs": [
        {
          "output_type": "execute_result",
          "data": {
            "text/plain": [
              "dict_items([('Shamsheer', 880633667), ('Saqib', 678434673), ('Nabin', 765834448), ('Michael', 112234523), ('Robert', 34056616), ('Smith', 982256526)])"
            ]
          },
          "metadata": {
            "tags": []
          },
          "execution_count": 14
        }
      ]
    },
    {
      "cell_type": "markdown",
      "metadata": {
        "id": "M0MhyF0HJLlc"
      },
      "source": [
        "\n",
        "\n",
        "### References\n",
        "\n",
        "1. _Python for Everybody: Exploring Data Using Python 3_ (2016). Charles R. Severance. [PDF available](http://do1.dr-chuck.com/pythonlearn/EN_us/pythonlearn.pdf)\n",
        "2. https://www.tutorialspoint.com/python/python_dictionary.htm"
      ]
    },
    {
      "cell_type": "markdown",
      "metadata": {
        "id": "UzWGGmKHJLld"
      },
      "source": [
        "### Hopefully we now have a good basic understanding of how to construct dictionaries. "
      ]
    }
  ]
}