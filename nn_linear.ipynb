{
  "nbformat": 4,
  "nbformat_minor": 0,
  "metadata": {
    "colab": {
      "name": "nn.linear.ipynb",
      "provenance": [],
      "authorship_tag": "ABX9TyMRQnYcubu4AxnI5O8hf1TO",
      "include_colab_link": true
    },
    "kernelspec": {
      "name": "python3",
      "display_name": "Python 3"
    }
  },
  "cells": [
    {
      "cell_type": "markdown",
      "metadata": {
        "id": "view-in-github",
        "colab_type": "text"
      },
      "source": [
        "<a href=\"https://colab.research.google.com/github/Hannah1123/Pytorch_note/blob/main/nn_linear.ipynb\" target=\"_parent\"><img src=\"https://colab.research.google.com/assets/colab-badge.svg\" alt=\"Open In Colab\"/></a>"
      ]
    },
    {
      "cell_type": "code",
      "metadata": {
        "id": "ZI55VUqzdaKG"
      },
      "source": [
        "import torch"
      ],
      "execution_count": null,
      "outputs": []
    },
    {
      "cell_type": "code",
      "metadata": {
        "colab": {
          "base_uri": "https://localhost:8080/"
        },
        "id": "NZKsjRSydi_G",
        "outputId": "9f8106c5-6164-4e1b-c100-48e8db5077c3"
      },
      "source": [
        "\n",
        "x = torch.randn(128, 20)  # 输入的维度是（128，20）\n",
        "m = torch.nn.Linear(20, 30)  # 20,30是指维度\n",
        "output = m(x)\n",
        "print('m.weight.shape:\\n ', m.weight.shape)\n",
        "print('m.bias.shape:\\n', m.bias.shape)\n",
        "print('output.shape:\\n', output.shape)\n",
        "\n",
        "# ans = torch.mm(input,torch.t(m.weight))+m.bias 等价于下面的\n",
        "ans = torch.mm(x, m.weight.t()) + m.bias   \n",
        "print('ans.shape:\\n', ans.shape)\n",
        "\n",
        "print(torch.equal(ans, output))"
      ],
      "execution_count": null,
      "outputs": [
        {
          "output_type": "stream",
          "text": [
            "m.weight.shape:\n",
            "  torch.Size([30, 20])\n",
            "m.bias.shape:\n",
            " torch.Size([30])\n",
            "output.shape:\n",
            " torch.Size([128, 30])\n",
            "ans.shape:\n",
            " torch.Size([128, 30])\n",
            "True\n"
          ],
          "name": "stdout"
        }
      ]
    },
    {
      "cell_type": "code",
      "metadata": {
        "colab": {
          "base_uri": "https://localhost:8080/"
        },
        "id": "Nped1ozWdmPO",
        "outputId": "bb140b30-9758-49f7-e604-a7efa19c549a"
      },
      "source": [
        "a=torch.randn(2,3)\n",
        "b=torch.randn(3,2)\n",
        "print(torch.mm(a,b))\n",
        "print(torch.matmul(a,b))"
      ],
      "execution_count": null,
      "outputs": [
        {
          "output_type": "stream",
          "text": [
            "tensor([[ 1.7115,  0.4339],\n",
            "        [ 1.4410, -0.0167]])\n",
            "tensor([[ 1.7115,  0.4339],\n",
            "        [ 1.4410, -0.0167]])\n"
          ],
          "name": "stdout"
        }
      ]
    },
    {
      "cell_type": "code",
      "metadata": {
        "colab": {
          "base_uri": "https://localhost:8080/"
        },
        "id": "PboMR4Imd-Ie",
        "outputId": "c8b6963c-7ffd-4ef2-8002-a32a322e1bec"
      },
      "source": [
        "print(a)"
      ],
      "execution_count": null,
      "outputs": [
        {
          "output_type": "stream",
          "text": [
            "tensor([[-0.4930, -0.3423,  0.9058],\n",
            "        [-0.6561,  1.0766, -0.2152]])\n"
          ],
          "name": "stdout"
        }
      ]
    },
    {
      "cell_type": "code",
      "metadata": {
        "id": "n4TyZ17-eGya"
      },
      "source": [
        ""
      ],
      "execution_count": null,
      "outputs": []
    }
  ]
}