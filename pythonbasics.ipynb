{
  "nbformat": 4,
  "nbformat_minor": 0,
  "metadata": {
    "colab": {
      "name": "pythonbasics.ipynb",
      "provenance": [],
      "authorship_tag": "ABX9TyOYgqICx8LJCLNHl00h8rFi",
      "include_colab_link": true
    },
    "kernelspec": {
      "name": "python3",
      "display_name": "Python 3"
    }
  },
  "cells": [
    {
      "cell_type": "markdown",
      "metadata": {
        "id": "view-in-github",
        "colab_type": "text"
      },
      "source": [
        "<a href=\"https://colab.research.google.com/github/Hannah1123/Pytorch_note/blob/main/pythonbasics.ipynb\" target=\"_parent\"><img src=\"https://colab.research.google.com/assets/colab-badge.svg\" alt=\"Open In Colab\"/></a>"
      ]
    },
    {
      "cell_type": "markdown",
      "metadata": {
        "id": "-tGdP25Ejo88"
      },
      "source": [
        "immutable: 当该object中的某个value发生改变时， 该object的id也改变了，即 变成了另一个object。  \n",
        "eg.  \n",
        "Numeric types: int, float, complex  \n",
        "string  \n",
        "tuple  \n",
        "frozen set"
      ]
    },
    {
      "cell_type": "code",
      "metadata": {
        "id": "w6ABf-PrjlZJ"
      },
      "source": [
        "import torch"
      ],
      "execution_count": null,
      "outputs": []
    },
    {
      "cell_type": "markdown",
      "metadata": {
        "id": "YYCk2hQSrBf6"
      },
      "source": [
        "### permute"
      ]
    },
    {
      "cell_type": "markdown",
      "metadata": {
        "id": "Wo9VoT98rEd-"
      },
      "source": [
        ""
      ]
    },
    {
      "cell_type": "code",
      "metadata": {
        "colab": {
          "base_uri": "https://localhost:8080/"
        },
        "id": "xMv1ru7nrFjI",
        "outputId": "d46c5c8d-57b2-43c9-d818-8433e62892b5"
      },
      "source": [
        "a = torch.randn(4, 1, 256, 3)\n",
        "a1 = a.permute(*[i for i in range(len(a.shape)-2)], -1, -2)\n",
        "a1.shape"
      ],
      "execution_count": null,
      "outputs": [
        {
          "output_type": "execute_result",
          "data": {
            "text/plain": [
              "torch.Size([4, 1, 3, 256])"
            ]
          },
          "metadata": {
            "tags": []
          },
          "execution_count": 2
        }
      ]
    },
    {
      "cell_type": "code",
      "metadata": {
        "id": "EkC9h94VrKdj"
      },
      "source": [
        ""
      ],
      "execution_count": null,
      "outputs": []
    }
  ]
}